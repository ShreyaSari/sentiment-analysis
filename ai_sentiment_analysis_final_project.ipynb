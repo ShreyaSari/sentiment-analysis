{
  "nbformat": 4,
  "nbformat_minor": 0,
  "metadata": {
    "colab": {
      "provenance": []
    },
    "kernelspec": {
      "name": "python3",
      "display_name": "Python 3"
    },
    "language_info": {
      "name": "python"
    }
  },
  "cells": [
    {
      "cell_type": "markdown",
      "source": [],
      "metadata": {
        "id": "x8hzi7pi9C-X"
      }
    },
    {
      "cell_type": "code",
      "execution_count": null,
      "metadata": {
        "colab": {
          "base_uri": "https://localhost:8080/"
        },
        "id": "V96XfZgey3t4",
        "outputId": "e3f0f8a1-fee9-433b-fefe-e9b4cb0284cf"
      },
      "outputs": [
        {
          "output_type": "stream",
          "name": "stdout",
          "text": [
            "2.12.0\n"
          ]
        }
      ],
      "source": [
        "from __future__ import absolute_import, division, print_function\n",
        "\n",
        "import tensorflow as tf\n",
        "from tensorflow import keras\n",
        "\n",
        "import numpy as np\n",
        "\n",
        "print(tf.__version__)"
      ]
    },
    {
      "cell_type": "code",
      "source": [
        "imdb = keras.datasets.imdb\n",
        "\n",
        "(train_data, train_labels), (test_data, test_labels) = imdb.load_data(num_words=10000)"
      ],
      "metadata": {
        "colab": {
          "base_uri": "https://localhost:8080/"
        },
        "id": "IgnqcVG2zHRD",
        "outputId": "1ad5a94b-978a-47fb-e96a-0b07382f29b1"
      },
      "execution_count": null,
      "outputs": [
        {
          "output_type": "stream",
          "name": "stdout",
          "text": [
            "Downloading data from https://storage.googleapis.com/tensorflow/tf-keras-datasets/imdb.npz\n",
            "17464789/17464789 [==============================] - 0s 0us/step\n"
          ]
        }
      ]
    },
    {
      "cell_type": "code",
      "source": [
        "print(\"Training entries: {}, labels: {}\".format(len(train_data), len(train_labels)))"
      ],
      "metadata": {
        "colab": {
          "base_uri": "https://localhost:8080/"
        },
        "id": "3v3meYHizIyY",
        "outputId": "b3c119ba-0d32-41e5-b707-6dea1de35fbe"
      },
      "execution_count": null,
      "outputs": [
        {
          "output_type": "stream",
          "name": "stdout",
          "text": [
            "Training entries: 25000, labels: 25000\n"
          ]
        }
      ]
    },
    {
      "cell_type": "code",
      "source": [
        "\n",
        "print(train_data[0])"
      ],
      "metadata": {
        "colab": {
          "base_uri": "https://localhost:8080/"
        },
        "id": "g7qlkD4DzKdi",
        "outputId": "03e32c86-17dc-4bc0-af4d-f6e712fd0ff4"
      },
      "execution_count": null,
      "outputs": [
        {
          "output_type": "stream",
          "name": "stdout",
          "text": [
            "[1, 14, 22, 16, 43, 530, 973, 1622, 1385, 65, 458, 4468, 66, 3941, 4, 173, 36, 256, 5, 25, 100, 43, 838, 112, 50, 670, 2, 9, 35, 480, 284, 5, 150, 4, 172, 112, 167, 2, 336, 385, 39, 4, 172, 4536, 1111, 17, 546, 38, 13, 447, 4, 192, 50, 16, 6, 147, 2025, 19, 14, 22, 4, 1920, 4613, 469, 4, 22, 71, 87, 12, 16, 43, 530, 38, 76, 15, 13, 1247, 4, 22, 17, 515, 17, 12, 16, 626, 18, 2, 5, 62, 386, 12, 8, 316, 8, 106, 5, 4, 2223, 5244, 16, 480, 66, 3785, 33, 4, 130, 12, 16, 38, 619, 5, 25, 124, 51, 36, 135, 48, 25, 1415, 33, 6, 22, 12, 215, 28, 77, 52, 5, 14, 407, 16, 82, 2, 8, 4, 107, 117, 5952, 15, 256, 4, 2, 7, 3766, 5, 723, 36, 71, 43, 530, 476, 26, 400, 317, 46, 7, 4, 2, 1029, 13, 104, 88, 4, 381, 15, 297, 98, 32, 2071, 56, 26, 141, 6, 194, 7486, 18, 4, 226, 22, 21, 134, 476, 26, 480, 5, 144, 30, 5535, 18, 51, 36, 28, 224, 92, 25, 104, 4, 226, 65, 16, 38, 1334, 88, 12, 16, 283, 5, 16, 4472, 113, 103, 32, 15, 16, 5345, 19, 178, 32]\n"
          ]
        }
      ]
    },
    {
      "cell_type": "code",
      "source": [
        "len(train_data[0]), len(train_data[1])"
      ],
      "metadata": {
        "colab": {
          "base_uri": "https://localhost:8080/"
        },
        "id": "eA1_g3zn7aI-",
        "outputId": "39457bab-c4eb-466a-9142-d412e7b4f25f"
      },
      "execution_count": null,
      "outputs": [
        {
          "output_type": "execute_result",
          "data": {
            "text/plain": [
              "(218, 189)"
            ]
          },
          "metadata": {},
          "execution_count": 6
        }
      ]
    },
    {
      "cell_type": "code",
      "source": [
        "# A dictionary mapping words to an integer index\n",
        "word_index = imdb.get_word_index()\n",
        "\n",
        "# The first indices are reserved\n",
        "word_index = {k:(v+3) for k,v in word_index.items()}\n",
        "word_index[\"<PAD>\"] = 0\n",
        "word_index[\"<START>\"] = 1\n",
        "word_index[\"<UNK>\"] = 2  # unknown\n",
        "word_index[\"<UNUSED>\"] = 3\n",
        "\n",
        "reverse_word_index = dict([(value, key) for (key, value) in word_index.items()])\n",
        "\n",
        "def decode_review(text):\n",
        "    return ' '.join([reverse_word_index.get(i, '?') for i in text])"
      ],
      "metadata": {
        "colab": {
          "base_uri": "https://localhost:8080/"
        },
        "id": "CAs2BvD87dJr",
        "outputId": "69b91da6-f036-41b4-aafb-e7faa1765754"
      },
      "execution_count": null,
      "outputs": [
        {
          "output_type": "stream",
          "name": "stdout",
          "text": [
            "Downloading data from https://storage.googleapis.com/tensorflow/tf-keras-datasets/imdb_word_index.json\n",
            "1641221/1641221 [==============================] - 0s 0us/step\n"
          ]
        }
      ]
    },
    {
      "cell_type": "code",
      "source": [
        "decode_review(train_data[0])"
      ],
      "metadata": {
        "colab": {
          "base_uri": "https://localhost:8080/",
          "height": 123
        },
        "id": "RGOtduqx7fr4",
        "outputId": "17783a7c-42e9-4eb0-995f-9e8887e007fb"
      },
      "execution_count": null,
      "outputs": [
        {
          "output_type": "execute_result",
          "data": {
            "text/plain": [
              "\"<START> this film was just brilliant casting location scenery story direction everyone's really suited the part they played and you could just imagine being there robert <UNK> is an amazing actor and now the same being director <UNK> father came from the same scottish island as myself so i loved the fact there was a real connection with this film the witty remarks throughout the film were great it was just brilliant so much that i bought the film as soon as it was released for <UNK> and would recommend it to everyone to watch and the fly fishing was amazing really cried at the end it was so sad and you know what they say if you cry at a film it must have been good and this definitely was also <UNK> to the two little boy's that played the <UNK> of norman and paul they were just brilliant children are often left out of the <UNK> list i think because the stars that play them all grown up are such a big profile for the whole film but these children are amazing and should be praised for what they have done don't you think the whole story was so lovely because it was true and was someone's life after all that was shared with us all\""
            ],
            "application/vnd.google.colaboratory.intrinsic+json": {
              "type": "string"
            }
          },
          "metadata": {},
          "execution_count": 8
        }
      ]
    },
    {
      "cell_type": "code",
      "source": [
        "train_data = keras.preprocessing.sequence.pad_sequences(train_data,\n",
        "                                                        value=word_index[\"<PAD>\"],\n",
        "                                                        padding='post',\n",
        "                                                        maxlen=256)\n",
        "\n",
        "test_data = keras.preprocessing.sequence.pad_sequences(test_data,\n",
        "                                                       value=word_index[\"<PAD>\"],\n",
        "                                                       padding='post',\n",
        "                                                       maxlen=256)"
      ],
      "metadata": {
        "id": "71Copt7D7jHN"
      },
      "execution_count": null,
      "outputs": []
    },
    {
      "cell_type": "code",
      "source": [
        "len(train_data[0]), len(train_data[1])"
      ],
      "metadata": {
        "colab": {
          "base_uri": "https://localhost:8080/"
        },
        "id": "lmbi3sKi7kx9",
        "outputId": "4b92b4ed-1cf8-45ab-b375-83a35508774a"
      },
      "execution_count": null,
      "outputs": [
        {
          "output_type": "execute_result",
          "data": {
            "text/plain": [
              "(256, 256)"
            ]
          },
          "metadata": {},
          "execution_count": 10
        }
      ]
    },
    {
      "cell_type": "code",
      "source": [
        "print(train_data[0])"
      ],
      "metadata": {
        "colab": {
          "base_uri": "https://localhost:8080/"
        },
        "id": "anECtJLn7mUM",
        "outputId": "4de15525-0f1a-4fee-f784-ef5d5a00c1ef"
      },
      "execution_count": null,
      "outputs": [
        {
          "output_type": "stream",
          "name": "stdout",
          "text": [
            "[   1   14   22   16   43  530  973 1622 1385   65  458 4468   66 3941\n",
            "    4  173   36  256    5   25  100   43  838  112   50  670    2    9\n",
            "   35  480  284    5  150    4  172  112  167    2  336  385   39    4\n",
            "  172 4536 1111   17  546   38   13  447    4  192   50   16    6  147\n",
            " 2025   19   14   22    4 1920 4613  469    4   22   71   87   12   16\n",
            "   43  530   38   76   15   13 1247    4   22   17  515   17   12   16\n",
            "  626   18    2    5   62  386   12    8  316    8  106    5    4 2223\n",
            " 5244   16  480   66 3785   33    4  130   12   16   38  619    5   25\n",
            "  124   51   36  135   48   25 1415   33    6   22   12  215   28   77\n",
            "   52    5   14  407   16   82    2    8    4  107  117 5952   15  256\n",
            "    4    2    7 3766    5  723   36   71   43  530  476   26  400  317\n",
            "   46    7    4    2 1029   13  104   88    4  381   15  297   98   32\n",
            " 2071   56   26  141    6  194 7486   18    4  226   22   21  134  476\n",
            "   26  480    5  144   30 5535   18   51   36   28  224   92   25  104\n",
            "    4  226   65   16   38 1334   88   12   16  283    5   16 4472  113\n",
            "  103   32   15   16 5345   19  178   32    0    0    0    0    0    0\n",
            "    0    0    0    0    0    0    0    0    0    0    0    0    0    0\n",
            "    0    0    0    0    0    0    0    0    0    0    0    0    0    0\n",
            "    0    0    0    0]\n"
          ]
        }
      ]
    },
    {
      "cell_type": "code",
      "source": [
        "# input shape is the vocabulary count used for the movie reviews (10,000 words)\n",
        "vocab_size = 10000\n",
        "\n",
        "model = keras.Sequential()\n",
        "model.add(keras.layers.Embedding(vocab_size, 16))\n",
        "model.add(keras.layers.GlobalAveragePooling1D())\n",
        "model.add(keras.layers.Dense(16, activation=tf.nn.relu))\n",
        "model.add(keras.layers.Dense(1, activation=tf.nn.sigmoid))\n",
        "\n",
        "model.summary()"
      ],
      "metadata": {
        "colab": {
          "base_uri": "https://localhost:8080/"
        },
        "id": "tc7knf5S7nmj",
        "outputId": "00f7bdf7-4693-46bc-ff3b-588dcceff22c"
      },
      "execution_count": null,
      "outputs": [
        {
          "output_type": "stream",
          "name": "stdout",
          "text": [
            "Model: \"sequential\"\n",
            "_________________________________________________________________\n",
            " Layer (type)                Output Shape              Param #   \n",
            "=================================================================\n",
            " embedding (Embedding)       (None, None, 16)          160000    \n",
            "                                                                 \n",
            " global_average_pooling1d (G  (None, 16)               0         \n",
            " lobalAveragePooling1D)                                          \n",
            "                                                                 \n",
            " dense (Dense)               (None, 16)                272       \n",
            "                                                                 \n",
            " dense_1 (Dense)             (None, 1)                 17        \n",
            "                                                                 \n",
            "=================================================================\n",
            "Total params: 160,289\n",
            "Trainable params: 160,289\n",
            "Non-trainable params: 0\n",
            "_________________________________________________________________\n"
          ]
        }
      ]
    },
    {
      "cell_type": "code",
      "source": [
        "model.compile(optimizer='adam',\n",
        "              loss='binary_crossentropy',\n",
        "              metrics=['acc'])"
      ],
      "metadata": {
        "id": "JDUKupTi7qoe"
      },
      "execution_count": null,
      "outputs": []
    },
    {
      "cell_type": "code",
      "source": [
        "x_val = train_data[:10000]\n",
        "partial_x_train = train_data[10000:]\n",
        "\n",
        "y_val = train_labels[:10000]\n",
        "partial_y_train = train_labels[10000:]"
      ],
      "metadata": {
        "id": "gQam5cFn7tsT"
      },
      "execution_count": null,
      "outputs": []
    },
    {
      "cell_type": "code",
      "source": [
        "history = model.fit(partial_x_train,\n",
        "                    partial_y_train,\n",
        "                    epochs=40,\n",
        "                    batch_size=512,\n",
        "                    validation_data=(x_val, y_val),\n",
        "                    verbose=1)"
      ],
      "metadata": {
        "colab": {
          "base_uri": "https://localhost:8080/"
        },
        "id": "8kokP3sm7v8X",
        "outputId": "0a3f3484-5b01-44d2-fd11-2f9f64e4d3e9"
      },
      "execution_count": null,
      "outputs": [
        {
          "output_type": "stream",
          "name": "stdout",
          "text": [
            "Epoch 1/40\n",
            "30/30 [==============================] - 2s 32ms/step - loss: 0.6917 - acc: 0.6196 - val_loss: 0.6892 - val_acc: 0.6943\n",
            "Epoch 2/40\n",
            "30/30 [==============================] - 1s 21ms/step - loss: 0.6846 - acc: 0.7230 - val_loss: 0.6792 - val_acc: 0.7216\n",
            "Epoch 3/40\n",
            "30/30 [==============================] - 1s 20ms/step - loss: 0.6691 - acc: 0.7355 - val_loss: 0.6597 - val_acc: 0.7563\n",
            "Epoch 4/40\n",
            "30/30 [==============================] - 1s 21ms/step - loss: 0.6420 - acc: 0.7731 - val_loss: 0.6290 - val_acc: 0.7746\n",
            "Epoch 5/40\n",
            "30/30 [==============================] - 1s 23ms/step - loss: 0.6032 - acc: 0.7954 - val_loss: 0.5885 - val_acc: 0.7907\n",
            "Epoch 6/40\n",
            "30/30 [==============================] - 1s 21ms/step - loss: 0.5554 - acc: 0.8207 - val_loss: 0.5432 - val_acc: 0.8124\n",
            "Epoch 7/40\n",
            "30/30 [==============================] - 1s 23ms/step - loss: 0.5044 - acc: 0.8387 - val_loss: 0.4973 - val_acc: 0.8274\n",
            "Epoch 8/40\n",
            "30/30 [==============================] - 1s 22ms/step - loss: 0.4555 - acc: 0.8571 - val_loss: 0.4556 - val_acc: 0.8408\n",
            "Epoch 9/40\n",
            "30/30 [==============================] - 1s 31ms/step - loss: 0.4117 - acc: 0.8689 - val_loss: 0.4213 - val_acc: 0.8482\n",
            "Epoch 10/40\n",
            "30/30 [==============================] - 1s 34ms/step - loss: 0.3749 - acc: 0.8787 - val_loss: 0.3922 - val_acc: 0.8564\n",
            "Epoch 11/40\n",
            "30/30 [==============================] - 1s 34ms/step - loss: 0.3435 - acc: 0.8873 - val_loss: 0.3699 - val_acc: 0.8632\n",
            "Epoch 12/40\n",
            "30/30 [==============================] - 1s 23ms/step - loss: 0.3182 - acc: 0.8934 - val_loss: 0.3520 - val_acc: 0.8668\n",
            "Epoch 13/40\n",
            "30/30 [==============================] - 1s 23ms/step - loss: 0.2957 - acc: 0.9003 - val_loss: 0.3385 - val_acc: 0.8680\n",
            "Epoch 14/40\n",
            "30/30 [==============================] - 1s 22ms/step - loss: 0.2769 - acc: 0.9055 - val_loss: 0.3257 - val_acc: 0.8752\n",
            "Epoch 15/40\n",
            "30/30 [==============================] - 1s 21ms/step - loss: 0.2600 - acc: 0.9112 - val_loss: 0.3167 - val_acc: 0.8758\n",
            "Epoch 16/40\n",
            "30/30 [==============================] - 1s 20ms/step - loss: 0.2454 - acc: 0.9156 - val_loss: 0.3091 - val_acc: 0.8768\n",
            "Epoch 17/40\n",
            "30/30 [==============================] - 1s 23ms/step - loss: 0.2323 - acc: 0.9200 - val_loss: 0.3031 - val_acc: 0.8784\n",
            "Epoch 18/40\n",
            "30/30 [==============================] - 1s 24ms/step - loss: 0.2205 - acc: 0.9248 - val_loss: 0.2979 - val_acc: 0.8820\n",
            "Epoch 19/40\n",
            "30/30 [==============================] - 1s 22ms/step - loss: 0.2097 - acc: 0.9271 - val_loss: 0.2941 - val_acc: 0.8831\n",
            "Epoch 20/40\n",
            "30/30 [==============================] - 1s 22ms/step - loss: 0.1994 - acc: 0.9317 - val_loss: 0.2908 - val_acc: 0.8835\n",
            "Epoch 21/40\n",
            "30/30 [==============================] - 1s 23ms/step - loss: 0.1898 - acc: 0.9363 - val_loss: 0.2886 - val_acc: 0.8846\n",
            "Epoch 22/40\n",
            "30/30 [==============================] - 1s 22ms/step - loss: 0.1811 - acc: 0.9403 - val_loss: 0.2867 - val_acc: 0.8860\n",
            "Epoch 23/40\n",
            "30/30 [==============================] - 1s 22ms/step - loss: 0.1732 - acc: 0.9441 - val_loss: 0.2862 - val_acc: 0.8843\n",
            "Epoch 24/40\n",
            "30/30 [==============================] - 1s 22ms/step - loss: 0.1660 - acc: 0.9469 - val_loss: 0.2852 - val_acc: 0.8851\n",
            "Epoch 25/40\n",
            "30/30 [==============================] - 1s 22ms/step - loss: 0.1582 - acc: 0.9497 - val_loss: 0.2852 - val_acc: 0.8852\n",
            "Epoch 26/40\n",
            "30/30 [==============================] - 1s 24ms/step - loss: 0.1513 - acc: 0.9537 - val_loss: 0.2854 - val_acc: 0.8859\n",
            "Epoch 27/40\n",
            "30/30 [==============================] - 1s 33ms/step - loss: 0.1455 - acc: 0.9559 - val_loss: 0.2864 - val_acc: 0.8850\n",
            "Epoch 28/40\n",
            "30/30 [==============================] - 1s 35ms/step - loss: 0.1390 - acc: 0.9588 - val_loss: 0.2871 - val_acc: 0.8856\n",
            "Epoch 29/40\n",
            "30/30 [==============================] - 1s 30ms/step - loss: 0.1336 - acc: 0.9600 - val_loss: 0.2884 - val_acc: 0.8870\n",
            "Epoch 30/40\n",
            "30/30 [==============================] - 1s 21ms/step - loss: 0.1276 - acc: 0.9631 - val_loss: 0.2904 - val_acc: 0.8862\n",
            "Epoch 31/40\n",
            "30/30 [==============================] - 1s 22ms/step - loss: 0.1226 - acc: 0.9655 - val_loss: 0.2917 - val_acc: 0.8863\n",
            "Epoch 32/40\n",
            "30/30 [==============================] - 1s 24ms/step - loss: 0.1175 - acc: 0.9669 - val_loss: 0.2940 - val_acc: 0.8842\n",
            "Epoch 33/40\n",
            "30/30 [==============================] - 1s 23ms/step - loss: 0.1126 - acc: 0.9687 - val_loss: 0.2962 - val_acc: 0.8846\n",
            "Epoch 34/40\n",
            "30/30 [==============================] - 1s 20ms/step - loss: 0.1087 - acc: 0.9697 - val_loss: 0.2990 - val_acc: 0.8838\n",
            "Epoch 35/40\n",
            "30/30 [==============================] - 1s 23ms/step - loss: 0.1043 - acc: 0.9720 - val_loss: 0.3023 - val_acc: 0.8832\n",
            "Epoch 36/40\n",
            "30/30 [==============================] - 1s 22ms/step - loss: 0.1002 - acc: 0.9732 - val_loss: 0.3057 - val_acc: 0.8822\n",
            "Epoch 37/40\n",
            "30/30 [==============================] - 1s 22ms/step - loss: 0.0960 - acc: 0.9753 - val_loss: 0.3077 - val_acc: 0.8825\n",
            "Epoch 38/40\n",
            "30/30 [==============================] - 1s 23ms/step - loss: 0.0926 - acc: 0.9757 - val_loss: 0.3125 - val_acc: 0.8821\n",
            "Epoch 39/40\n",
            "30/30 [==============================] - 1s 20ms/step - loss: 0.0887 - acc: 0.9785 - val_loss: 0.3155 - val_acc: 0.8817\n",
            "Epoch 40/40\n",
            "30/30 [==============================] - 1s 23ms/step - loss: 0.0854 - acc: 0.9795 - val_loss: 0.3188 - val_acc: 0.8820\n"
          ]
        }
      ]
    },
    {
      "cell_type": "code",
      "source": [
        "results = model.evaluate(test_data, test_labels)\n",
        "\n",
        "print(results)"
      ],
      "metadata": {
        "colab": {
          "base_uri": "https://localhost:8080/"
        },
        "id": "GLbdZXZl7xgT",
        "outputId": "20a3b4dd-6a58-4ab5-828c-2ed92a62343e"
      },
      "execution_count": null,
      "outputs": [
        {
          "output_type": "stream",
          "name": "stdout",
          "text": [
            "782/782 [==============================] - 2s 2ms/step - loss: 0.3404 - acc: 0.8707\n",
            "[0.3403833508491516, 0.8706799745559692]\n"
          ]
        }
      ]
    },
    {
      "cell_type": "code",
      "source": [
        "history_dict = history.history\n",
        "history_dict.keys()"
      ],
      "metadata": {
        "colab": {
          "base_uri": "https://localhost:8080/"
        },
        "id": "HoP9Afvb7yRj",
        "outputId": "88728b91-2e04-48a2-dac4-2b40986e9bd4"
      },
      "execution_count": null,
      "outputs": [
        {
          "output_type": "execute_result",
          "data": {
            "text/plain": [
              "dict_keys(['loss', 'acc', 'val_loss', 'val_acc'])"
            ]
          },
          "metadata": {},
          "execution_count": 18
        }
      ]
    },
    {
      "cell_type": "code",
      "source": [
        "import matplotlib.pyplot as plt\n",
        "\n",
        "acc = history_dict['acc']\n",
        "val_acc = history_dict['val_acc']\n",
        "loss = history_dict['loss']\n",
        "val_loss = history_dict['val_loss']\n",
        "\n",
        "epochs = range(1, len(acc) + 1)\n",
        "\n",
        "# \"bo\" is for \"blue dot\"\n",
        "plt.plot(epochs, loss, 'bo', label='Training loss')\n",
        "# b is for \"solid blue line\"\n",
        "plt.plot(epochs, val_loss, 'b', label='Validation loss')\n",
        "plt.title('Training and validation loss')\n",
        "plt.xlabel('Epochs')\n",
        "plt.ylabel('Loss')\n",
        "plt.legend()\n",
        "\n",
        "plt.show()"
      ],
      "metadata": {
        "colab": {
          "base_uri": "https://localhost:8080/",
          "height": 472
        },
        "id": "amqjaWwK7yXY",
        "outputId": "ed88db83-b04e-4a7b-ec4d-b188a8a9f622"
      },
      "execution_count": null,
      "outputs": [
        {
          "output_type": "display_data",
          "data": {
            "text/plain": [
              "<Figure size 640x480 with 1 Axes>"
            ],
            "image/png": "[encoded data removed]"
          },
          "metadata": {}
        }
      ]
    },
    {
      "cell_type": "code",
      "source": [
        "plt.clf()   # clear figure\n",
        "\n",
        "plt.plot(epochs, acc, 'bo', label='Training acc')\n",
        "plt.plot(epochs, val_acc, 'b', label='Validation acc')\n",
        "plt.title('Training and validation accuracy')\n",
        "plt.xlabel('Epochs')\n",
        "plt.ylabel('Accuracy')\n",
        "plt.legend()\n",
        "\n",
        "plt.show()"
      ],
      "metadata": {
        "colab": {
          "base_uri": "https://localhost:8080/",
          "height": 472
        },
        "id": "6GGFvoSw73Ps",
        "outputId": "a0d9828f-409c-4852-c379-0f8ecf95d9bd"
      },
      "execution_count": null,
      "outputs": [
        {
          "output_type": "display_data",
          "data": {
            "text/plain": [
              "<Figure size 640x480 with 1 Axes>"
            ],
            "image/png": "[encoded data removed]"
          },
          "metadata": {}
        }
      ]
    },
    {
      "cell_type": "code",
      "source": [],
      "metadata": {
        "id": "7jrTZ0r973cp"
      },
      "execution_count": null,
      "outputs": []
    },
    {
      "cell_type": "code",
      "source": [],
      "metadata": {
        "id": "nLuBNnRj73kg"
      },
      "execution_count": null,
      "outputs": []
    },
    {
      "cell_type": "code",
      "source": [],
      "metadata": {
        "id": "6_U_4Dk-73q8"
      },
      "execution_count": null,
      "outputs": []
    },
    {
      "cell_type": "code",
      "source": [],
      "metadata": {
        "id": "JW_32n4173xa"
      },
      "execution_count": null,
      "outputs": []
    },
    {
      "cell_type": "code",
      "source": [],
      "metadata": {
        "id": "Qzdzm56V735T"
      },
      "execution_count": null,
      "outputs": []
    }
  ]
}